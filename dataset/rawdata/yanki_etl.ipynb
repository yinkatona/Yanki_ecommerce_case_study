{
 "cells": [
  {
   "cell_type": "code",
   "execution_count": 106,
   "metadata": {},
   "outputs": [
    {
     "name": "stdout",
     "output_type": "stream",
     "text": [
      "Requirement already satisfied: pandas in c:\\users\\adeyinka\\anaconda3\\lib\\site-packages (2.2.2)Note: you may need to restart the kernel to use updated packages.\n",
      "\n",
      "Requirement already satisfied: numpy>=1.26.0 in c:\\users\\adeyinka\\anaconda3\\lib\\site-packages (from pandas) (1.26.4)\n",
      "Requirement already satisfied: python-dateutil>=2.8.2 in c:\\users\\adeyinka\\appdata\\roaming\\python\\python312\\site-packages (from pandas) (2.9.0.post0)\n",
      "Requirement already satisfied: pytz>=2020.1 in c:\\users\\adeyinka\\anaconda3\\lib\\site-packages (from pandas) (2024.1)\n",
      "Requirement already satisfied: tzdata>=2022.7 in c:\\users\\adeyinka\\anaconda3\\lib\\site-packages (from pandas) (2023.3)\n",
      "Requirement already satisfied: six>=1.5 in c:\\users\\adeyinka\\appdata\\roaming\\python\\python312\\site-packages (from python-dateutil>=2.8.2->pandas) (1.16.0)\n",
      "Requirement already satisfied: numpy in c:\\users\\adeyinka\\anaconda3\\lib\\site-packages (1.26.4)\n",
      "Note: you may need to restart the kernel to use updated packages.\n"
     ]
    }
   ],
   "source": [
    "%pip install pandas\n",
    "%pip install numpy"
   ]
  },
  {
   "cell_type": "code",
   "execution_count": 107,
   "metadata": {},
   "outputs": [],
   "source": [
    "#### Inporting libraries\n",
    "import numpy as np\n",
    "import pandas as pd"
   ]
  },
  {
   "cell_type": "markdown",
   "metadata": {},
   "source": [
    "### Extraction layer"
   ]
  },
  {
   "cell_type": "code",
   "execution_count": 108,
   "metadata": {},
   "outputs": [],
   "source": [
    "yanki_df = pd.read_csv(r'C:\\Users\\ADEYINKA\\Desktop\\10Alytics\\Projects\\Yanki_Ecommerce_doc\\Yanki_ecommerce_case_study\\dataset\\rawdata\\yanki_ecommerce.csv')"
   ]
  },
  {
   "cell_type": "code",
   "execution_count": 109,
   "metadata": {},
   "outputs": [
    {
     "data": {
      "text/html": [
       "<div>\n",
       "<style scoped>\n",
       "    .dataframe tbody tr th:only-of-type {\n",
       "        vertical-align: middle;\n",
       "    }\n",
       "\n",
       "    .dataframe tbody tr th {\n",
       "        vertical-align: top;\n",
       "    }\n",
       "\n",
       "    .dataframe thead th {\n",
       "        text-align: right;\n",
       "    }\n",
       "</style>\n",
       "<table border=\"1\" class=\"dataframe\">\n",
       "  <thead>\n",
       "    <tr style=\"text-align: right;\">\n",
       "      <th></th>\n",
       "      <th>Order_ID</th>\n",
       "      <th>Customer_ID</th>\n",
       "      <th>Customer_Name</th>\n",
       "      <th>Product_ID</th>\n",
       "      <th>Product_Name</th>\n",
       "      <th>Brand</th>\n",
       "      <th>Category</th>\n",
       "      <th>Price</th>\n",
       "      <th>Quantity</th>\n",
       "      <th>Total_Price</th>\n",
       "      <th>Order_Date</th>\n",
       "      <th>Shipping_Address</th>\n",
       "      <th>City</th>\n",
       "      <th>State</th>\n",
       "      <th>Country</th>\n",
       "      <th>Postal_Code</th>\n",
       "      <th>Email</th>\n",
       "      <th>Phone_Number</th>\n",
       "      <th>Payment_Method</th>\n",
       "      <th>Transaction_Status</th>\n",
       "    </tr>\n",
       "  </thead>\n",
       "  <tbody>\n",
       "    <tr>\n",
       "      <th>0</th>\n",
       "      <td>NaN</td>\n",
       "      <td>NaN</td>\n",
       "      <td>NaN</td>\n",
       "      <td>64b689a8-bf03-47d2-a5cc-0723baeb1606</td>\n",
       "      <td>major</td>\n",
       "      <td>Haynes PLC</td>\n",
       "      <td>perfume</td>\n",
       "      <td>52.34</td>\n",
       "      <td>2</td>\n",
       "      <td>104.68</td>\n",
       "      <td>2020-05-27 14:20:38.292975</td>\n",
       "      <td>1648 Brown Bridge Apt. 846\\nCaitlinland, MI 57992</td>\n",
       "      <td>Davidstad</td>\n",
       "      <td>Utah</td>\n",
       "      <td>China</td>\n",
       "      <td>50247</td>\n",
       "      <td>karen64@example.com</td>\n",
       "      <td>001-217-511-0290x8262</td>\n",
       "      <td>Credit Card</td>\n",
       "      <td>completed</td>\n",
       "    </tr>\n",
       "    <tr>\n",
       "      <th>1</th>\n",
       "      <td>NaN</td>\n",
       "      <td>NaN</td>\n",
       "      <td>NaN</td>\n",
       "      <td>64b689a8-bf03-47d2-a5cc-0723baeb1606</td>\n",
       "      <td>major</td>\n",
       "      <td>Haynes PLC</td>\n",
       "      <td>perfume</td>\n",
       "      <td>52.34</td>\n",
       "      <td>2</td>\n",
       "      <td>104.68</td>\n",
       "      <td>2020-05-27 14:20:38.292975</td>\n",
       "      <td>1648 Brown Bridge Apt. 846\\nCaitlinland, MI 57992</td>\n",
       "      <td>Davidstad</td>\n",
       "      <td>Utah</td>\n",
       "      <td>China</td>\n",
       "      <td>50247</td>\n",
       "      <td>karen64@example.com</td>\n",
       "      <td>001-217-511-0290x8262</td>\n",
       "      <td>Credit Card</td>\n",
       "      <td>completed</td>\n",
       "    </tr>\n",
       "    <tr>\n",
       "      <th>2</th>\n",
       "      <td>e32af09a-b6ab-497e-af3a-331e4d4ed6e7</td>\n",
       "      <td>e0d6cb3c-c4b0-4cfe-8225-b65d094d2424</td>\n",
       "      <td>Dominic Buchanan</td>\n",
       "      <td>2ef6e8fa-6a36-4515-b1c2-a0a700abf386</td>\n",
       "      <td>despite</td>\n",
       "      <td>Lawson, Stone and Campos</td>\n",
       "      <td>perfume oil</td>\n",
       "      <td>250.57</td>\n",
       "      <td>2</td>\n",
       "      <td>501.14</td>\n",
       "      <td>2020-03-06 06:49:07.272117</td>\n",
       "      <td>PSC 2224, Box 2284\\nAPO AP 65880</td>\n",
       "      <td>Jordanborough</td>\n",
       "      <td>Arkansas</td>\n",
       "      <td>Kuwait</td>\n",
       "      <td>27879</td>\n",
       "      <td>margaret97@example.com</td>\n",
       "      <td>259.603.6134</td>\n",
       "      <td>Debit Card</td>\n",
       "      <td>completed</td>\n",
       "    </tr>\n",
       "    <tr>\n",
       "      <th>3</th>\n",
       "      <td>86eb8859-14ab-4d4e-9267-c5826f4e0c8e</td>\n",
       "      <td>fa3ca35a-5540-404b-a7eb-9001cdcbd840</td>\n",
       "      <td>Daniel Allen</td>\n",
       "      <td>3ba38e01-f8e7-4af2-9246-87ef0961d4f5</td>\n",
       "      <td>sea</td>\n",
       "      <td>Washington Group</td>\n",
       "      <td>perfume oil</td>\n",
       "      <td>179.81</td>\n",
       "      <td>6</td>\n",
       "      <td>1078.86</td>\n",
       "      <td>2020-07-31 07:09:30.231510</td>\n",
       "      <td>83909 Johnson Mall\\nTranberg, MS 99017</td>\n",
       "      <td>Lake Ginatown</td>\n",
       "      <td>Georgia</td>\n",
       "      <td>Saint Vincent and the Grenadines</td>\n",
       "      <td>39336</td>\n",
       "      <td>angela55@example.com</td>\n",
       "      <td>+1-869-659-4272x982</td>\n",
       "      <td>Credit Card</td>\n",
       "      <td>completed</td>\n",
       "    </tr>\n",
       "    <tr>\n",
       "      <th>4</th>\n",
       "      <td>7379b560-8897-4623-92a2-523ddcdc43a1</td>\n",
       "      <td>7ad4de53-e6d7-4cd3-99b8-13fb70fe7a34</td>\n",
       "      <td>Daniel Schmidt</td>\n",
       "      <td>a58c53bd-a34b-4541-b926-bec9eb84cac2</td>\n",
       "      <td>suddenly</td>\n",
       "      <td>Rodgers Ltd</td>\n",
       "      <td>perfume oil</td>\n",
       "      <td>600.55</td>\n",
       "      <td>7</td>\n",
       "      <td>4203.85</td>\n",
       "      <td>2021-05-11 04:33:09.707443</td>\n",
       "      <td>82101 Johnson Flat\\nWest Ryan, MS 29075</td>\n",
       "      <td>Sarahville</td>\n",
       "      <td>Ohio</td>\n",
       "      <td>France</td>\n",
       "      <td>30845</td>\n",
       "      <td>wayne59@example.org</td>\n",
       "      <td>292.840.0975x724</td>\n",
       "      <td>PayPal</td>\n",
       "      <td>pending</td>\n",
       "    </tr>\n",
       "  </tbody>\n",
       "</table>\n",
       "</div>"
      ],
      "text/plain": [
       "                               Order_ID                           Customer_ID  \\\n",
       "0                                   NaN                                   NaN   \n",
       "1                                   NaN                                   NaN   \n",
       "2  e32af09a-b6ab-497e-af3a-331e4d4ed6e7  e0d6cb3c-c4b0-4cfe-8225-b65d094d2424   \n",
       "3  86eb8859-14ab-4d4e-9267-c5826f4e0c8e  fa3ca35a-5540-404b-a7eb-9001cdcbd840   \n",
       "4  7379b560-8897-4623-92a2-523ddcdc43a1  7ad4de53-e6d7-4cd3-99b8-13fb70fe7a34   \n",
       "\n",
       "      Customer_Name                            Product_ID Product_Name  \\\n",
       "0               NaN  64b689a8-bf03-47d2-a5cc-0723baeb1606        major   \n",
       "1               NaN  64b689a8-bf03-47d2-a5cc-0723baeb1606        major   \n",
       "2  Dominic Buchanan  2ef6e8fa-6a36-4515-b1c2-a0a700abf386      despite   \n",
       "3      Daniel Allen  3ba38e01-f8e7-4af2-9246-87ef0961d4f5          sea   \n",
       "4    Daniel Schmidt  a58c53bd-a34b-4541-b926-bec9eb84cac2     suddenly   \n",
       "\n",
       "                      Brand     Category   Price  Quantity  Total_Price  \\\n",
       "0                Haynes PLC      perfume   52.34         2       104.68   \n",
       "1                Haynes PLC      perfume   52.34         2       104.68   \n",
       "2  Lawson, Stone and Campos  perfume oil  250.57         2       501.14   \n",
       "3          Washington Group  perfume oil  179.81         6      1078.86   \n",
       "4               Rodgers Ltd  perfume oil  600.55         7      4203.85   \n",
       "\n",
       "                   Order_Date  \\\n",
       "0  2020-05-27 14:20:38.292975   \n",
       "1  2020-05-27 14:20:38.292975   \n",
       "2  2020-03-06 06:49:07.272117   \n",
       "3  2020-07-31 07:09:30.231510   \n",
       "4  2021-05-11 04:33:09.707443   \n",
       "\n",
       "                                    Shipping_Address           City     State  \\\n",
       "0  1648 Brown Bridge Apt. 846\\nCaitlinland, MI 57992      Davidstad      Utah   \n",
       "1  1648 Brown Bridge Apt. 846\\nCaitlinland, MI 57992      Davidstad      Utah   \n",
       "2                   PSC 2224, Box 2284\\nAPO AP 65880  Jordanborough  Arkansas   \n",
       "3             83909 Johnson Mall\\nTranberg, MS 99017  Lake Ginatown   Georgia   \n",
       "4            82101 Johnson Flat\\nWest Ryan, MS 29075     Sarahville      Ohio   \n",
       "\n",
       "                            Country  Postal_Code                   Email  \\\n",
       "0                             China        50247     karen64@example.com   \n",
       "1                             China        50247     karen64@example.com   \n",
       "2                            Kuwait        27879  margaret97@example.com   \n",
       "3  Saint Vincent and the Grenadines        39336    angela55@example.com   \n",
       "4                            France        30845     wayne59@example.org   \n",
       "\n",
       "            Phone_Number Payment_Method Transaction_Status  \n",
       "0  001-217-511-0290x8262    Credit Card          completed  \n",
       "1  001-217-511-0290x8262    Credit Card          completed  \n",
       "2           259.603.6134     Debit Card          completed  \n",
       "3    +1-869-659-4272x982    Credit Card          completed  \n",
       "4       292.840.0975x724         PayPal            pending  "
      ]
     },
     "execution_count": 109,
     "metadata": {},
     "output_type": "execute_result"
    }
   ],
   "source": [
    "yanki_df.head()"
   ]
  },
  {
   "cell_type": "code",
   "execution_count": 110,
   "metadata": {},
   "outputs": [
    {
     "name": "stdout",
     "output_type": "stream",
     "text": [
      "<class 'pandas.core.frame.DataFrame'>\n",
      "RangeIndex: 1020 entries, 0 to 1019\n",
      "Data columns (total 20 columns):\n",
      " #   Column              Non-Null Count  Dtype  \n",
      "---  ------              --------------  -----  \n",
      " 0   Order_ID            1000 non-null   object \n",
      " 1   Customer_ID         1000 non-null   object \n",
      " 2   Customer_Name       1000 non-null   object \n",
      " 3   Product_ID          1020 non-null   object \n",
      " 4   Product_Name        1020 non-null   object \n",
      " 5   Brand               1020 non-null   object \n",
      " 6   Category            1020 non-null   object \n",
      " 7   Price               1020 non-null   float64\n",
      " 8   Quantity            1020 non-null   int64  \n",
      " 9   Total_Price         1020 non-null   float64\n",
      " 10  Order_Date          1020 non-null   object \n",
      " 11  Shipping_Address    1020 non-null   object \n",
      " 12  City                1020 non-null   object \n",
      " 13  State               1020 non-null   object \n",
      " 14  Country             1020 non-null   object \n",
      " 15  Postal_Code         1020 non-null   int64  \n",
      " 16  Email               1020 non-null   object \n",
      " 17  Phone_Number        1020 non-null   object \n",
      " 18  Payment_Method      1020 non-null   object \n",
      " 19  Transaction_Status  1020 non-null   object \n",
      "dtypes: float64(2), int64(2), object(16)\n",
      "memory usage: 159.5+ KB\n"
     ]
    }
   ],
   "source": [
    "yanki_df.info()"
   ]
  },
  {
   "cell_type": "code",
   "execution_count": 111,
   "metadata": {},
   "outputs": [
    {
     "data": {
      "text/plain": [
       "Index(['Order_ID', 'Customer_ID', 'Customer_Name', 'Product_ID',\n",
       "       'Product_Name', 'Brand', 'Category', 'Price', 'Quantity', 'Total_Price',\n",
       "       'Order_Date', 'Shipping_Address', 'City', 'State', 'Country',\n",
       "       'Postal_Code', 'Email', 'Phone_Number', 'Payment_Method',\n",
       "       'Transaction_Status'],\n",
       "      dtype='object')"
      ]
     },
     "execution_count": 111,
     "metadata": {},
     "output_type": "execute_result"
    }
   ],
   "source": [
    "yanki_df.columns"
   ]
  },
  {
   "cell_type": "markdown",
   "metadata": {},
   "source": [
    "### Data Cleaning and Transformation"
   ]
  },
  {
   "cell_type": "code",
   "execution_count": 112,
   "metadata": {},
   "outputs": [
    {
     "data": {
      "text/plain": [
       "Index(['Order_ID', 'Customer_ID', 'Customer_Name', 'Product_ID',\n",
       "       'Product_Name', 'Brand', 'Category', 'Price', 'Quantity', 'Total_Price',\n",
       "       'Order_Date', 'Shipping_Address', 'City', 'State', 'Country',\n",
       "       'Postal_Code', 'Email', 'Phone_Number', 'Payment_Method',\n",
       "       'Transaction_Status'],\n",
       "      dtype='object')"
      ]
     },
     "execution_count": 112,
     "metadata": {},
     "output_type": "execute_result"
    }
   ],
   "source": [
    "yanki_df.columns"
   ]
  },
  {
   "cell_type": "code",
   "execution_count": 113,
   "metadata": {},
   "outputs": [
    {
     "name": "stdout",
     "output_type": "stream",
     "text": [
      "<class 'pandas.core.frame.DataFrame'>\n",
      "RangeIndex: 1020 entries, 0 to 1019\n",
      "Data columns (total 20 columns):\n",
      " #   Column              Non-Null Count  Dtype  \n",
      "---  ------              --------------  -----  \n",
      " 0   Order_ID            1000 non-null   object \n",
      " 1   Customer_ID         1000 non-null   object \n",
      " 2   Customer_Name       1000 non-null   object \n",
      " 3   Product_ID          1020 non-null   object \n",
      " 4   Product_Name        1020 non-null   object \n",
      " 5   Brand               1020 non-null   object \n",
      " 6   Category            1020 non-null   object \n",
      " 7   Price               1020 non-null   float64\n",
      " 8   Quantity            1020 non-null   int64  \n",
      " 9   Total_Price         1020 non-null   float64\n",
      " 10  Order_Date          1020 non-null   object \n",
      " 11  Shipping_Address    1020 non-null   object \n",
      " 12  City                1020 non-null   object \n",
      " 13  State               1020 non-null   object \n",
      " 14  Country             1020 non-null   object \n",
      " 15  Postal_Code         1020 non-null   int64  \n",
      " 16  Email               1020 non-null   object \n",
      " 17  Phone_Number        1020 non-null   object \n",
      " 18  Payment_Method      1020 non-null   object \n",
      " 19  Transaction_Status  1020 non-null   object \n",
      "dtypes: float64(2), int64(2), object(16)\n",
      "memory usage: 159.5+ KB\n"
     ]
    }
   ],
   "source": [
    "yanki_df.info()"
   ]
  },
  {
   "cell_type": "code",
   "execution_count": 114,
   "metadata": {},
   "outputs": [],
   "source": [
    "#drop missing values in Order_ID and Customer_ID\n",
    "\n",
    "yanki_df.dropna(subset=['Order_ID', 'Customer_ID'], inplace=True)"
   ]
  },
  {
   "cell_type": "code",
   "execution_count": 115,
   "metadata": {},
   "outputs": [
    {
     "name": "stdout",
     "output_type": "stream",
     "text": [
      "<class 'pandas.core.frame.DataFrame'>\n",
      "Index: 1000 entries, 2 to 1019\n",
      "Data columns (total 20 columns):\n",
      " #   Column              Non-Null Count  Dtype  \n",
      "---  ------              --------------  -----  \n",
      " 0   Order_ID            1000 non-null   object \n",
      " 1   Customer_ID         1000 non-null   object \n",
      " 2   Customer_Name       1000 non-null   object \n",
      " 3   Product_ID          1000 non-null   object \n",
      " 4   Product_Name        1000 non-null   object \n",
      " 5   Brand               1000 non-null   object \n",
      " 6   Category            1000 non-null   object \n",
      " 7   Price               1000 non-null   float64\n",
      " 8   Quantity            1000 non-null   int64  \n",
      " 9   Total_Price         1000 non-null   float64\n",
      " 10  Order_Date          1000 non-null   object \n",
      " 11  Shipping_Address    1000 non-null   object \n",
      " 12  City                1000 non-null   object \n",
      " 13  State               1000 non-null   object \n",
      " 14  Country             1000 non-null   object \n",
      " 15  Postal_Code         1000 non-null   int64  \n",
      " 16  Email               1000 non-null   object \n",
      " 17  Phone_Number        1000 non-null   object \n",
      " 18  Payment_Method      1000 non-null   object \n",
      " 19  Transaction_Status  1000 non-null   object \n",
      "dtypes: float64(2), int64(2), object(16)\n",
      "memory usage: 164.1+ KB\n"
     ]
    }
   ],
   "source": [
    "yanki_df.info()"
   ]
  },
  {
   "cell_type": "code",
   "execution_count": 116,
   "metadata": {},
   "outputs": [],
   "source": [
    "# convert the order date from string to order time object\n",
    "yanki_df['Order_Date'] = pd.to_datetime(yanki_df['Order_Date'])"
   ]
  },
  {
   "cell_type": "code",
   "execution_count": 117,
   "metadata": {},
   "outputs": [
    {
     "name": "stdout",
     "output_type": "stream",
     "text": [
      "<class 'pandas.core.frame.DataFrame'>\n",
      "Index: 1000 entries, 2 to 1019\n",
      "Data columns (total 20 columns):\n",
      " #   Column              Non-Null Count  Dtype         \n",
      "---  ------              --------------  -----         \n",
      " 0   Order_ID            1000 non-null   object        \n",
      " 1   Customer_ID         1000 non-null   object        \n",
      " 2   Customer_Name       1000 non-null   object        \n",
      " 3   Product_ID          1000 non-null   object        \n",
      " 4   Product_Name        1000 non-null   object        \n",
      " 5   Brand               1000 non-null   object        \n",
      " 6   Category            1000 non-null   object        \n",
      " 7   Price               1000 non-null   float64       \n",
      " 8   Quantity            1000 non-null   int64         \n",
      " 9   Total_Price         1000 non-null   float64       \n",
      " 10  Order_Date          1000 non-null   datetime64[ns]\n",
      " 11  Shipping_Address    1000 non-null   object        \n",
      " 12  City                1000 non-null   object        \n",
      " 13  State               1000 non-null   object        \n",
      " 14  Country             1000 non-null   object        \n",
      " 15  Postal_Code         1000 non-null   int64         \n",
      " 16  Email               1000 non-null   object        \n",
      " 17  Phone_Number        1000 non-null   object        \n",
      " 18  Payment_Method      1000 non-null   object        \n",
      " 19  Transaction_Status  1000 non-null   object        \n",
      "dtypes: datetime64[ns](1), float64(2), int64(2), object(15)\n",
      "memory usage: 164.1+ KB\n"
     ]
    }
   ],
   "source": [
    "yanki_df.info()"
   ]
  },
  {
   "cell_type": "code",
   "execution_count": 118,
   "metadata": {},
   "outputs": [
    {
     "data": {
      "text/plain": [
       "Index(['Order_ID', 'Customer_ID', 'Customer_Name', 'Product_ID',\n",
       "       'Product_Name', 'Brand', 'Category', 'Price', 'Quantity', 'Total_Price',\n",
       "       'Order_Date', 'Shipping_Address', 'City', 'State', 'Country',\n",
       "       'Postal_Code', 'Email', 'Phone_Number', 'Payment_Method',\n",
       "       'Transaction_Status'],\n",
       "      dtype='object')"
      ]
     },
     "execution_count": 118,
     "metadata": {},
     "output_type": "execute_result"
    }
   ],
   "source": [
    "yanki_df.columns"
   ]
  },
  {
   "cell_type": "code",
   "execution_count": 119,
   "metadata": {},
   "outputs": [
    {
     "data": {
      "text/html": [
       "<div>\n",
       "<style scoped>\n",
       "    .dataframe tbody tr th:only-of-type {\n",
       "        vertical-align: middle;\n",
       "    }\n",
       "\n",
       "    .dataframe tbody tr th {\n",
       "        vertical-align: top;\n",
       "    }\n",
       "\n",
       "    .dataframe thead th {\n",
       "        text-align: right;\n",
       "    }\n",
       "</style>\n",
       "<table border=\"1\" class=\"dataframe\">\n",
       "  <thead>\n",
       "    <tr style=\"text-align: right;\">\n",
       "      <th></th>\n",
       "      <th>Customer_ID</th>\n",
       "      <th>Customer_Name</th>\n",
       "      <th>Email</th>\n",
       "      <th>Phone_Number</th>\n",
       "    </tr>\n",
       "  </thead>\n",
       "  <tbody>\n",
       "    <tr>\n",
       "      <th>0</th>\n",
       "      <td>e0d6cb3c-c4b0-4cfe-8225-b65d094d2424</td>\n",
       "      <td>Dominic Buchanan</td>\n",
       "      <td>margaret97@example.com</td>\n",
       "      <td>259.603.6134</td>\n",
       "    </tr>\n",
       "    <tr>\n",
       "      <th>1</th>\n",
       "      <td>fa3ca35a-5540-404b-a7eb-9001cdcbd840</td>\n",
       "      <td>Daniel Allen</td>\n",
       "      <td>angela55@example.com</td>\n",
       "      <td>+1-869-659-4272x982</td>\n",
       "    </tr>\n",
       "    <tr>\n",
       "      <th>2</th>\n",
       "      <td>7ad4de53-e6d7-4cd3-99b8-13fb70fe7a34</td>\n",
       "      <td>Daniel Schmidt</td>\n",
       "      <td>wayne59@example.org</td>\n",
       "      <td>292.840.0975x724</td>\n",
       "    </tr>\n",
       "    <tr>\n",
       "      <th>3</th>\n",
       "      <td>4b9b409c-19f2-41c0-bc7c-6556e0647ebb</td>\n",
       "      <td>John Gonzalez</td>\n",
       "      <td>qsherman@example.com</td>\n",
       "      <td>+1-643-561-3912x262</td>\n",
       "    </tr>\n",
       "    <tr>\n",
       "      <th>4</th>\n",
       "      <td>81b513ad-5c02-48cf-bff0-39e1440c4d22</td>\n",
       "      <td>Amber Benitez</td>\n",
       "      <td>derek85@example.com</td>\n",
       "      <td>3424148376</td>\n",
       "    </tr>\n",
       "  </tbody>\n",
       "</table>\n",
       "</div>"
      ],
      "text/plain": [
       "                            Customer_ID     Customer_Name  \\\n",
       "0  e0d6cb3c-c4b0-4cfe-8225-b65d094d2424  Dominic Buchanan   \n",
       "1  fa3ca35a-5540-404b-a7eb-9001cdcbd840      Daniel Allen   \n",
       "2  7ad4de53-e6d7-4cd3-99b8-13fb70fe7a34    Daniel Schmidt   \n",
       "3  4b9b409c-19f2-41c0-bc7c-6556e0647ebb     John Gonzalez   \n",
       "4  81b513ad-5c02-48cf-bff0-39e1440c4d22     Amber Benitez   \n",
       "\n",
       "                    Email         Phone_Number  \n",
       "0  margaret97@example.com         259.603.6134  \n",
       "1    angela55@example.com  +1-869-659-4272x982  \n",
       "2     wayne59@example.org     292.840.0975x724  \n",
       "3    qsherman@example.com  +1-643-561-3912x262  \n",
       "4     derek85@example.com           3424148376  "
      ]
     },
     "execution_count": 119,
     "metadata": {},
     "output_type": "execute_result"
    }
   ],
   "source": [
    "#Customer Table\n",
    "\n",
    "customers_df = yanki_df[['Customer_ID', 'Customer_Name','Email', 'Phone_Number']].copy().drop_duplicates().reset_index(drop=True)\n",
    "\n",
    "customers_df.head()"
   ]
  },
  {
   "cell_type": "code",
   "execution_count": 120,
   "metadata": {},
   "outputs": [
    {
     "data": {
      "text/html": [
       "<div>\n",
       "<style scoped>\n",
       "    .dataframe tbody tr th:only-of-type {\n",
       "        vertical-align: middle;\n",
       "    }\n",
       "\n",
       "    .dataframe tbody tr th {\n",
       "        vertical-align: top;\n",
       "    }\n",
       "\n",
       "    .dataframe thead th {\n",
       "        text-align: right;\n",
       "    }\n",
       "</style>\n",
       "<table border=\"1\" class=\"dataframe\">\n",
       "  <thead>\n",
       "    <tr style=\"text-align: right;\">\n",
       "      <th></th>\n",
       "      <th>Product_ID</th>\n",
       "      <th>Product_Name</th>\n",
       "      <th>Brand</th>\n",
       "      <th>Category</th>\n",
       "      <th>Price</th>\n",
       "    </tr>\n",
       "  </thead>\n",
       "  <tbody>\n",
       "    <tr>\n",
       "      <th>0</th>\n",
       "      <td>2ef6e8fa-6a36-4515-b1c2-a0a700abf386</td>\n",
       "      <td>despite</td>\n",
       "      <td>Lawson, Stone and Campos</td>\n",
       "      <td>perfume oil</td>\n",
       "      <td>250.57</td>\n",
       "    </tr>\n",
       "    <tr>\n",
       "      <th>1</th>\n",
       "      <td>3ba38e01-f8e7-4af2-9246-87ef0961d4f5</td>\n",
       "      <td>sea</td>\n",
       "      <td>Washington Group</td>\n",
       "      <td>perfume oil</td>\n",
       "      <td>179.81</td>\n",
       "    </tr>\n",
       "    <tr>\n",
       "      <th>2</th>\n",
       "      <td>a58c53bd-a34b-4541-b926-bec9eb84cac2</td>\n",
       "      <td>suddenly</td>\n",
       "      <td>Rodgers Ltd</td>\n",
       "      <td>perfume oil</td>\n",
       "      <td>600.55</td>\n",
       "    </tr>\n",
       "    <tr>\n",
       "      <th>3</th>\n",
       "      <td>e6021be5-90be-4199-b6c6-82542fb2973c</td>\n",
       "      <td>site</td>\n",
       "      <td>Wilson, Scott and Johnson</td>\n",
       "      <td>perfume oil</td>\n",
       "      <td>414.36</td>\n",
       "    </tr>\n",
       "    <tr>\n",
       "      <th>4</th>\n",
       "      <td>60127671-ab32-4fb5-bfeb-1a7782ad835e</td>\n",
       "      <td>act</td>\n",
       "      <td>Riddle, Alvarez and Robinson</td>\n",
       "      <td>perfume</td>\n",
       "      <td>704.05</td>\n",
       "    </tr>\n",
       "  </tbody>\n",
       "</table>\n",
       "</div>"
      ],
      "text/plain": [
       "                             Product_ID Product_Name  \\\n",
       "0  2ef6e8fa-6a36-4515-b1c2-a0a700abf386      despite   \n",
       "1  3ba38e01-f8e7-4af2-9246-87ef0961d4f5          sea   \n",
       "2  a58c53bd-a34b-4541-b926-bec9eb84cac2     suddenly   \n",
       "3  e6021be5-90be-4199-b6c6-82542fb2973c         site   \n",
       "4  60127671-ab32-4fb5-bfeb-1a7782ad835e          act   \n",
       "\n",
       "                          Brand     Category   Price  \n",
       "0      Lawson, Stone and Campos  perfume oil  250.57  \n",
       "1              Washington Group  perfume oil  179.81  \n",
       "2                   Rodgers Ltd  perfume oil  600.55  \n",
       "3     Wilson, Scott and Johnson  perfume oil  414.36  \n",
       "4  Riddle, Alvarez and Robinson      perfume  704.05  "
      ]
     },
     "execution_count": 120,
     "metadata": {},
     "output_type": "execute_result"
    }
   ],
   "source": [
    "#Product Table\n",
    "\n",
    "products_df = yanki_df[[ 'Product_ID',\n",
    "       'Product_Name','Brand', 'Category', 'Price']].copy().drop_duplicates().reset_index(drop=True)\n",
    "\n",
    "products_df.head()\n",
    "\n"
   ]
  },
  {
   "cell_type": "code",
   "execution_count": 121,
   "metadata": {},
   "outputs": [
    {
     "data": {
      "text/html": [
       "<div>\n",
       "<style scoped>\n",
       "    .dataframe tbody tr th:only-of-type {\n",
       "        vertical-align: middle;\n",
       "    }\n",
       "\n",
       "    .dataframe tbody tr th {\n",
       "        vertical-align: top;\n",
       "    }\n",
       "\n",
       "    .dataframe thead th {\n",
       "        text-align: right;\n",
       "    }\n",
       "</style>\n",
       "<table border=\"1\" class=\"dataframe\">\n",
       "  <thead>\n",
       "    <tr style=\"text-align: right;\">\n",
       "      <th></th>\n",
       "      <th>Order_ID</th>\n",
       "      <th>Customer_ID</th>\n",
       "      <th>Product_ID</th>\n",
       "      <th>Quantity</th>\n",
       "      <th>Total_Price</th>\n",
       "      <th>Order_Date</th>\n",
       "    </tr>\n",
       "  </thead>\n",
       "  <tbody>\n",
       "    <tr>\n",
       "      <th>0</th>\n",
       "      <td>e32af09a-b6ab-497e-af3a-331e4d4ed6e7</td>\n",
       "      <td>e0d6cb3c-c4b0-4cfe-8225-b65d094d2424</td>\n",
       "      <td>2ef6e8fa-6a36-4515-b1c2-a0a700abf386</td>\n",
       "      <td>2</td>\n",
       "      <td>501.14</td>\n",
       "      <td>2020-03-06 06:49:07.272117</td>\n",
       "    </tr>\n",
       "    <tr>\n",
       "      <th>1</th>\n",
       "      <td>86eb8859-14ab-4d4e-9267-c5826f4e0c8e</td>\n",
       "      <td>fa3ca35a-5540-404b-a7eb-9001cdcbd840</td>\n",
       "      <td>3ba38e01-f8e7-4af2-9246-87ef0961d4f5</td>\n",
       "      <td>6</td>\n",
       "      <td>1078.86</td>\n",
       "      <td>2020-07-31 07:09:30.231510</td>\n",
       "    </tr>\n",
       "    <tr>\n",
       "      <th>2</th>\n",
       "      <td>7379b560-8897-4623-92a2-523ddcdc43a1</td>\n",
       "      <td>7ad4de53-e6d7-4cd3-99b8-13fb70fe7a34</td>\n",
       "      <td>a58c53bd-a34b-4541-b926-bec9eb84cac2</td>\n",
       "      <td>7</td>\n",
       "      <td>4203.85</td>\n",
       "      <td>2021-05-11 04:33:09.707443</td>\n",
       "    </tr>\n",
       "    <tr>\n",
       "      <th>3</th>\n",
       "      <td>30c57f86-2fed-43c0-a399-654c2c3bb18d</td>\n",
       "      <td>4b9b409c-19f2-41c0-bc7c-6556e0647ebb</td>\n",
       "      <td>e6021be5-90be-4199-b6c6-82542fb2973c</td>\n",
       "      <td>9</td>\n",
       "      <td>3729.24</td>\n",
       "      <td>2023-09-12 01:47:56.290477</td>\n",
       "    </tr>\n",
       "    <tr>\n",
       "      <th>4</th>\n",
       "      <td>41c29d81-9622-43c1-b537-7cdb320d3e6a</td>\n",
       "      <td>81b513ad-5c02-48cf-bff0-39e1440c4d22</td>\n",
       "      <td>60127671-ab32-4fb5-bfeb-1a7782ad835e</td>\n",
       "      <td>9</td>\n",
       "      <td>6336.45</td>\n",
       "      <td>2021-08-20 18:02:04.254156</td>\n",
       "    </tr>\n",
       "  </tbody>\n",
       "</table>\n",
       "</div>"
      ],
      "text/plain": [
       "                               Order_ID                           Customer_ID  \\\n",
       "0  e32af09a-b6ab-497e-af3a-331e4d4ed6e7  e0d6cb3c-c4b0-4cfe-8225-b65d094d2424   \n",
       "1  86eb8859-14ab-4d4e-9267-c5826f4e0c8e  fa3ca35a-5540-404b-a7eb-9001cdcbd840   \n",
       "2  7379b560-8897-4623-92a2-523ddcdc43a1  7ad4de53-e6d7-4cd3-99b8-13fb70fe7a34   \n",
       "3  30c57f86-2fed-43c0-a399-654c2c3bb18d  4b9b409c-19f2-41c0-bc7c-6556e0647ebb   \n",
       "4  41c29d81-9622-43c1-b537-7cdb320d3e6a  81b513ad-5c02-48cf-bff0-39e1440c4d22   \n",
       "\n",
       "                             Product_ID  Quantity  Total_Price  \\\n",
       "0  2ef6e8fa-6a36-4515-b1c2-a0a700abf386         2       501.14   \n",
       "1  3ba38e01-f8e7-4af2-9246-87ef0961d4f5         6      1078.86   \n",
       "2  a58c53bd-a34b-4541-b926-bec9eb84cac2         7      4203.85   \n",
       "3  e6021be5-90be-4199-b6c6-82542fb2973c         9      3729.24   \n",
       "4  60127671-ab32-4fb5-bfeb-1a7782ad835e         9      6336.45   \n",
       "\n",
       "                  Order_Date  \n",
       "0 2020-03-06 06:49:07.272117  \n",
       "1 2020-07-31 07:09:30.231510  \n",
       "2 2021-05-11 04:33:09.707443  \n",
       "3 2023-09-12 01:47:56.290477  \n",
       "4 2021-08-20 18:02:04.254156  "
      ]
     },
     "execution_count": 121,
     "metadata": {},
     "output_type": "execute_result"
    }
   ],
   "source": [
    "#Orders Table\n",
    "orders_df = yanki_df[['Order_ID','Customer_ID', 'Product_ID','Quantity','Total_Price',\n",
    "       'Order_Date']].copy().drop_duplicates().reset_index(drop=True)\n",
    "\n",
    "orders_df.head()"
   ]
  },
  {
   "cell_type": "code",
   "execution_count": 122,
   "metadata": {},
   "outputs": [
    {
     "data": {
      "text/html": [
       "<div>\n",
       "<style scoped>\n",
       "    .dataframe tbody tr th:only-of-type {\n",
       "        vertical-align: middle;\n",
       "    }\n",
       "\n",
       "    .dataframe tbody tr th {\n",
       "        vertical-align: top;\n",
       "    }\n",
       "\n",
       "    .dataframe thead th {\n",
       "        text-align: right;\n",
       "    }\n",
       "</style>\n",
       "<table border=\"1\" class=\"dataframe\">\n",
       "  <thead>\n",
       "    <tr style=\"text-align: right;\">\n",
       "      <th></th>\n",
       "      <th>ShippingID</th>\n",
       "      <th>Customer_ID</th>\n",
       "      <th>Shipping_Address</th>\n",
       "      <th>City</th>\n",
       "      <th>State</th>\n",
       "      <th>Country</th>\n",
       "      <th>Postal_Code</th>\n",
       "    </tr>\n",
       "  </thead>\n",
       "  <tbody>\n",
       "    <tr>\n",
       "      <th>0</th>\n",
       "      <td>0</td>\n",
       "      <td>e0d6cb3c-c4b0-4cfe-8225-b65d094d2424</td>\n",
       "      <td>PSC 2224, Box 2284\\nAPO AP 65880</td>\n",
       "      <td>Jordanborough</td>\n",
       "      <td>Arkansas</td>\n",
       "      <td>Kuwait</td>\n",
       "      <td>27879</td>\n",
       "    </tr>\n",
       "    <tr>\n",
       "      <th>1</th>\n",
       "      <td>1</td>\n",
       "      <td>fa3ca35a-5540-404b-a7eb-9001cdcbd840</td>\n",
       "      <td>83909 Johnson Mall\\nTranberg, MS 99017</td>\n",
       "      <td>Lake Ginatown</td>\n",
       "      <td>Georgia</td>\n",
       "      <td>Saint Vincent and the Grenadines</td>\n",
       "      <td>39336</td>\n",
       "    </tr>\n",
       "    <tr>\n",
       "      <th>2</th>\n",
       "      <td>2</td>\n",
       "      <td>7ad4de53-e6d7-4cd3-99b8-13fb70fe7a34</td>\n",
       "      <td>82101 Johnson Flat\\nWest Ryan, MS 29075</td>\n",
       "      <td>Sarahville</td>\n",
       "      <td>Ohio</td>\n",
       "      <td>France</td>\n",
       "      <td>30845</td>\n",
       "    </tr>\n",
       "    <tr>\n",
       "      <th>3</th>\n",
       "      <td>3</td>\n",
       "      <td>4b9b409c-19f2-41c0-bc7c-6556e0647ebb</td>\n",
       "      <td>4542 Gary Lane\\nSouth Alexander, VI 27671</td>\n",
       "      <td>Lake Michelle</td>\n",
       "      <td>Arkansas</td>\n",
       "      <td>Sao Tome and Principe</td>\n",
       "      <td>30955</td>\n",
       "    </tr>\n",
       "    <tr>\n",
       "      <th>4</th>\n",
       "      <td>4</td>\n",
       "      <td>81b513ad-5c02-48cf-bff0-39e1440c4d22</td>\n",
       "      <td>6794 Caroline Crescent\\nEast Karlside, GU 81379</td>\n",
       "      <td>Olsenville</td>\n",
       "      <td>Mississippi</td>\n",
       "      <td>Croatia</td>\n",
       "      <td>45429</td>\n",
       "    </tr>\n",
       "  </tbody>\n",
       "</table>\n",
       "</div>"
      ],
      "text/plain": [
       "   ShippingID                           Customer_ID  \\\n",
       "0           0  e0d6cb3c-c4b0-4cfe-8225-b65d094d2424   \n",
       "1           1  fa3ca35a-5540-404b-a7eb-9001cdcbd840   \n",
       "2           2  7ad4de53-e6d7-4cd3-99b8-13fb70fe7a34   \n",
       "3           3  4b9b409c-19f2-41c0-bc7c-6556e0647ebb   \n",
       "4           4  81b513ad-5c02-48cf-bff0-39e1440c4d22   \n",
       "\n",
       "                                  Shipping_Address           City  \\\n",
       "0                 PSC 2224, Box 2284\\nAPO AP 65880  Jordanborough   \n",
       "1           83909 Johnson Mall\\nTranberg, MS 99017  Lake Ginatown   \n",
       "2          82101 Johnson Flat\\nWest Ryan, MS 29075     Sarahville   \n",
       "3        4542 Gary Lane\\nSouth Alexander, VI 27671  Lake Michelle   \n",
       "4  6794 Caroline Crescent\\nEast Karlside, GU 81379     Olsenville   \n",
       "\n",
       "         State                           Country  Postal_Code  \n",
       "0     Arkansas                            Kuwait        27879  \n",
       "1      Georgia  Saint Vincent and the Grenadines        39336  \n",
       "2         Ohio                            France        30845  \n",
       "3     Arkansas             Sao Tome and Principe        30955  \n",
       "4  Mississippi                           Croatia        45429  "
      ]
     },
     "execution_count": 122,
     "metadata": {},
     "output_type": "execute_result"
    }
   ],
   "source": [
    "#Shipping Address_df\n",
    "shipping_address_df = yanki_df[['Customer_ID','Shipping_Address', 'City', 'State', 'Country','Postal_Code']].copy().drop_duplicates().reset_index(drop=True)\n",
    "\n",
    "shipping_address_df.index.name = 'ShippingID'\n",
    "shipping_address_df = shipping_address_df.reset_index()\n",
    "\n",
    "shipping_address_df.head()\n"
   ]
  },
  {
   "cell_type": "code",
   "execution_count": 123,
   "metadata": {},
   "outputs": [
    {
     "data": {
      "text/plain": [
       "Index(['Order_ID', 'Customer_ID', 'Customer_Name', 'Product_ID',\n",
       "       'Product_Name', 'Brand', 'Category', 'Price', 'Quantity', 'Total_Price',\n",
       "       'Order_Date', 'Shipping_Address', 'City', 'State', 'Country',\n",
       "       'Postal_Code', 'Email', 'Phone_Number', 'Payment_Method',\n",
       "       'Transaction_Status'],\n",
       "      dtype='object')"
      ]
     },
     "execution_count": 123,
     "metadata": {},
     "output_type": "execute_result"
    }
   ],
   "source": [
    "yanki_df.columns"
   ]
  },
  {
   "cell_type": "code",
   "execution_count": null,
   "metadata": {},
   "outputs": [],
   "source": []
  },
  {
   "cell_type": "code",
   "execution_count": 124,
   "metadata": {},
   "outputs": [
    {
     "data": {
      "text/html": [
       "<div>\n",
       "<style scoped>\n",
       "    .dataframe tbody tr th:only-of-type {\n",
       "        vertical-align: middle;\n",
       "    }\n",
       "\n",
       "    .dataframe tbody tr th {\n",
       "        vertical-align: top;\n",
       "    }\n",
       "\n",
       "    .dataframe thead th {\n",
       "        text-align: right;\n",
       "    }\n",
       "</style>\n",
       "<table border=\"1\" class=\"dataframe\">\n",
       "  <thead>\n",
       "    <tr style=\"text-align: right;\">\n",
       "      <th></th>\n",
       "      <th>Order_ID</th>\n",
       "      <th>Payment_Method</th>\n",
       "      <th>Transaction_Status</th>\n",
       "    </tr>\n",
       "  </thead>\n",
       "  <tbody>\n",
       "    <tr>\n",
       "      <th>0</th>\n",
       "      <td>e32af09a-b6ab-497e-af3a-331e4d4ed6e7</td>\n",
       "      <td>Debit Card</td>\n",
       "      <td>completed</td>\n",
       "    </tr>\n",
       "    <tr>\n",
       "      <th>1</th>\n",
       "      <td>86eb8859-14ab-4d4e-9267-c5826f4e0c8e</td>\n",
       "      <td>Credit Card</td>\n",
       "      <td>completed</td>\n",
       "    </tr>\n",
       "    <tr>\n",
       "      <th>2</th>\n",
       "      <td>7379b560-8897-4623-92a2-523ddcdc43a1</td>\n",
       "      <td>PayPal</td>\n",
       "      <td>pending</td>\n",
       "    </tr>\n",
       "    <tr>\n",
       "      <th>3</th>\n",
       "      <td>30c57f86-2fed-43c0-a399-654c2c3bb18d</td>\n",
       "      <td>PayPal</td>\n",
       "      <td>completed</td>\n",
       "    </tr>\n",
       "    <tr>\n",
       "      <th>4</th>\n",
       "      <td>41c29d81-9622-43c1-b537-7cdb320d3e6a</td>\n",
       "      <td>PayPal</td>\n",
       "      <td>pending</td>\n",
       "    </tr>\n",
       "  </tbody>\n",
       "</table>\n",
       "</div>"
      ],
      "text/plain": [
       "                               Order_ID Payment_Method Transaction_Status\n",
       "0  e32af09a-b6ab-497e-af3a-331e4d4ed6e7     Debit Card          completed\n",
       "1  86eb8859-14ab-4d4e-9267-c5826f4e0c8e    Credit Card          completed\n",
       "2  7379b560-8897-4623-92a2-523ddcdc43a1         PayPal            pending\n",
       "3  30c57f86-2fed-43c0-a399-654c2c3bb18d         PayPal          completed\n",
       "4  41c29d81-9622-43c1-b537-7cdb320d3e6a         PayPal            pending"
      ]
     },
     "execution_count": 124,
     "metadata": {},
     "output_type": "execute_result"
    }
   ],
   "source": [
    "#Payment Method Table\n",
    "\n",
    "payment_method_df = yanki_df[['Order_ID','Payment_Method',\n",
    "       'Transaction_Status']].copy().drop_duplicates().reset_index(drop=True)\n",
    "\n",
    "payment_method_df.head()"
   ]
  },
  {
   "cell_type": "code",
   "execution_count": 125,
   "metadata": {},
   "outputs": [],
   "source": [
    "#import os\n",
    "\n",
    "# # Ensure the directory exists\n",
    "# output_dir = r'dataset\\cleaneddata'\n",
    "# os.makedirs(output_dir, exist_ok=True)\n",
    "\n",
    "#Save the Table to CSVs\n",
    "customers_df.to_csv(r'C:\\Users\\ADEYINKA\\Desktop\\10Alytics\\Projects\\Yanki_Ecommerce_doc\\Yanki_ecommerce_case_study\\dataset\\cleaneddata\\customers.csv', index = False)\n",
    "customers_df.to_csv(r'C:\\Users\\ADEYINKA\\Desktop\\10Alytics\\Projects\\Yanki_Ecommerce_doc\\Yanki_ecommerce_case_study\\dataset\\cleaneddata\\products.csv', index = False)\n",
    "customers_df.to_csv(r'C:\\Users\\ADEYINKA\\Desktop\\10Alytics\\Projects\\Yanki_Ecommerce_doc\\Yanki_ecommerce_case_study\\dataset\\cleaneddata\\orders.csv', index = False)\n",
    "customers_df.to_csv(r'C:\\Users\\ADEYINKA\\Desktop\\10Alytics\\Projects\\Yanki_Ecommerce_doc\\Yanki_ecommerce_case_study\\dataset\\cleaneddata\\shipping.csv', index = False)\n",
    "customers_df.to_csv(r'C:\\Users\\ADEYINKA\\Desktop\\10Alytics\\Projects\\Yanki_Ecommerce_doc\\Yanki_ecommerce_case_study\\dataset\\cleaneddata\\payment_method.csv', index = False)\n",
    "# customers_df.to_csv(r'dataset\\cleaneddata\\customers.csv', index=False)\n",
    "# products_df.to_csv(r'dataset\\cleaneddata\\products.csv', index=False)\n",
    "# orders_df.to_csv(r'dataset\\cleaneddata\\orders.csv', index=False)\n",
    "# shipping_address_df.to_csv(r'dataset\\cleaneddata\\shipping.csv', index=False)\n",
    "# payment_method_df.to_csv(r'dataset\\cleaneddata\\payment_method.csv', index=False)"
   ]
  },
  {
   "cell_type": "markdown",
   "metadata": {},
   "source": [
    "### Data Loading"
   ]
  },
  {
   "cell_type": "code",
   "execution_count": 126,
   "metadata": {},
   "outputs": [
    {
     "name": "stdout",
     "output_type": "stream",
     "text": [
      "Requirement already satisfied: psycopg2 in c:\\users\\adeyinka\\anaconda3\\lib\\site-packages (2.9.10)\n",
      "Note: you may need to restart the kernel to use updated packages.\n"
     ]
    }
   ],
   "source": [
    "%pip install psycopg2"
   ]
  },
  {
   "cell_type": "code",
   "execution_count": 127,
   "metadata": {},
   "outputs": [],
   "source": [
    "import psycopg2"
   ]
  },
  {
   "cell_type": "code",
   "execution_count": 128,
   "metadata": {},
   "outputs": [],
   "source": [
    "def get_db_connection():\n",
    "  connection = psycopg2.connect(\n",
    "    host = 'localhost',\n",
    "    database = 'YankiEcommerce',\n",
    "    user = 'postgres',\n",
    "    password = 'Tlimsisnw@ps23'\n",
    "  )\n",
    "  return connection"
   ]
  },
  {
   "cell_type": "code",
   "execution_count": 129,
   "metadata": {},
   "outputs": [],
   "source": [
    "conn = get_db_connection()"
   ]
  },
  {
   "cell_type": "code",
   "execution_count": 130,
   "metadata": {},
   "outputs": [],
   "source": [
    "# Create SQL Tables\n",
    "\n",
    "def create_tables():\n",
    "  conn = get_db_connection()\n",
    "  cursor = conn.cursor()\n",
    "  create_tables_query = '''\n",
    "                        CREATE SCHEMA IF NOT EXISTS yanki;\n",
    "\n",
    "                        DROP TABLE IF EXISTS yanki.customers CASCADE;\n",
    "                        DROP TABLE IF EXISTS yanki.products CASCADE;\n",
    "                        DROP TABLE IF EXISTS yanki.orderrs CASCADE;\n",
    "                        DROP TABLE IF EXISTS yanki.shipping CASCADE;\n",
    "                        DROP TABLE IF EXISTS yanki.payment_method CASCADE;\n",
    "\n",
    "                        CREATE TABLE IF NOT EXISTS yanki.customers(\n",
    "                          Customer_ID UUID PRIMARY KEY,\n",
    "                          Customer_Name TEXT,\n",
    "                          Email TEXT,\n",
    "                          Phone_Number TEXT\n",
    "                        );\n",
    "\n",
    "                        CREATE TABLE IF NOT EXISTS yanki.products(\n",
    "                          Product_ID UUID PRIMARY KEY,\n",
    "                          Product_Name TEXT,\n",
    "                          Brand TEXT,\n",
    "                          Category TEXT,\n",
    "                          Price FLOAT\n",
    "                        );\n",
    "\n",
    "                         CREATE TABLE IF NOT EXISTS yanki. orders(\n",
    "                          Order_ID UUID PRIMARY KEY,\n",
    "                          Customer_ID UUID,\n",
    "                          Product_ID UUID,\n",
    "                          Quantity TEXT,\n",
    "                          Total_Price FLOAT,\n",
    "                          Order_Date DATE,\n",
    "                          FOREIGN KEY (Customer_ID) REFERENCES yanki.customers(Customer_ID),\n",
    "                          FOREIGN KEY (Product_ID) REFERENCES yanki.products(Product_ID)\n",
    "                        );\n",
    "\n",
    "                        CREATE TABLE IF NOT EXISTS yanki.shipping(\n",
    "                          ShippingID SERIAL PRIMARY KEY,\n",
    "                          Customer_ID UUID,\n",
    "                          Shipping_Address TEXT,\n",
    "                          City TEXT,\n",
    "                          State FLOAT,\n",
    "                          Country TEXT,\n",
    "                          Postal_Code INTEGER,\n",
    "                          FOREIGN KEY (Customer_ID) REFERENCES yanki.customers(Customer_ID)\n",
    "\n",
    "\n",
    "                        );\n",
    "\n",
    "                        CREATE TABLE IF NOT EXISTS yanki.payment_method(\n",
    "                          Order_ID UUID PRIMARY KEY,\n",
    "                          Payment_Method TEXT,\n",
    "                          Transaction_Status TEXT,\n",
    "                          FOREIGN KEY (Order_ID) REFERENCES yanki.orders(Order_ID)\n",
    "\n",
    "                        );\n",
    "\n",
    "\n",
    "                        '''\n",
    "  cursor.execute(create_tables_query)\n",
    "  conn.commit()\n",
    "  cursor.close()\n",
    "  conn.close()"
   ]
  },
  {
   "cell_type": "code",
   "execution_count": 131,
   "metadata": {},
   "outputs": [],
   "source": [
    "create_tables()"
   ]
  },
  {
   "cell_type": "code",
   "execution_count": 132,
   "metadata": {},
   "outputs": [
    {
     "data": {
      "text/plain": [
       "Index(['Customer_ID', 'Customer_Name', 'Email', 'Phone_Number'], dtype='object')"
      ]
     },
     "metadata": {},
     "output_type": "display_data"
    },
    {
     "name": "stdout",
     "output_type": "stream",
     "text": [
      "<class 'pandas.core.frame.DataFrame'>\n",
      "RangeIndex: 990 entries, 0 to 989\n",
      "Data columns (total 4 columns):\n",
      " #   Column         Non-Null Count  Dtype \n",
      "---  ------         --------------  ----- \n",
      " 0   Customer_ID    990 non-null    object\n",
      " 1   Customer_Name  990 non-null    object\n",
      " 2   Email          990 non-null    object\n",
      " 3   Phone_Number   990 non-null    object\n",
      "dtypes: object(4)\n",
      "memory usage: 31.1+ KB\n"
     ]
    },
    {
     "data": {
      "text/plain": [
       "None"
      ]
     },
     "metadata": {},
     "output_type": "display_data"
    }
   ],
   "source": [
    "display(customers_df.columns)\n",
    "\n",
    "display(customers_df.info())"
   ]
  },
  {
   "cell_type": "code",
   "execution_count": 140,
   "metadata": {},
   "outputs": [],
   "source": [
    "import csv\n",
    "def load_data_from_csv(csv_path):\n",
    "  conn=get_db_connection()\n",
    "  cursor = conn.cursor()\n",
    "  with open(csv_path, 'r') as file:\n",
    "    reader = csv.reader(file)\n",
    "    next(reader)\n",
    "    for row in reader:\n",
    "      cursor.execute('''\n",
    "                      INSERT INTO yanki.customers(Customer_ID, Customer_Name, Email, Phone_Number)\n",
    "                      VALUE (%s, %s, %s, %s);''',\n",
    "                      row\n",
    "                    )\n",
    "  conn.commit()\n",
    "  cursor.close()\n",
    "  conn.close()\n",
    "\n",
    "  csv_file_path = r'dataset\\cleaneddata\\customers.csv'\n",
    "  load_data_from_csv(csv_file_path)\n"
   ]
  },
  {
   "cell_type": "code",
   "execution_count": 134,
   "metadata": {},
   "outputs": [],
   "source": [
    "#importing csv file into posgres server - products.csv\n",
    "\n",
    "import csv\n",
    "def load_data_from_csv(csv_path):\n",
    "  conn=get_db_connection()\n",
    "  cursor = conn.cursor()\n",
    "  with open(csv_path, 'r') as file:\n",
    "    reader = csv.reader(file)\n",
    "    next(reader)\n",
    "    for row in reader:\n",
    "      cursor.execute('''\n",
    "                      INSERT INTO yanki.products(Product_ID, Product_Name, Brand, Category,Price)\n",
    "                      VALUE (%s, %s, %s, %s, %s);''',\n",
    "                      row\n",
    "                    )\n",
    "  conn.commit()\n",
    "  \n",
    "  cursor.close()\n",
    "  conn.close()\n",
    "\n",
    "  csv_file_path = r'dataset\\cleaneddata\\products.csv'\n",
    "  load_data_from_csv(csv_file_path)"
   ]
  },
  {
   "cell_type": "code",
   "execution_count": 146,
   "metadata": {},
   "outputs": [
    {
     "data": {
      "text/plain": [
       "Index(['Product_ID', 'Product_Name', 'Brand', 'Category', 'Price'], dtype='object')"
      ]
     },
     "execution_count": 146,
     "metadata": {},
     "output_type": "execute_result"
    }
   ],
   "source": [
    "products_df.columns"
   ]
  },
  {
   "cell_type": "code",
   "execution_count": 147,
   "metadata": {},
   "outputs": [],
   "source": [
    "#importing csv file into posgres server - orders.csv\n",
    "\n",
    "import csv\n",
    "def load_data_from_csv(csv_path):\n",
    "  conn=get_db_connection()\n",
    "  cursor = conn.cursor()\n",
    "  with open(csv_path, 'r') as file:\n",
    "    reader = csv.reader(file)\n",
    "    next(reader)\n",
    "    for row in reader:\n",
    "      cursor.execute('''\n",
    "                      INSERT INTO yanki.orders(Order_ID, Customer_ID, Product_ID, Quantity,Total_Price,Order_Date)\n",
    "                      VALUE (%s, %s, %s, %s, %s,%s);''',\n",
    "                      row\n",
    "                    )\n",
    "  conn.commit()\n",
    "  \n",
    "  cursor.close()\n",
    "  conn.close()\n",
    "\n",
    "  csv_file_path = r'dataset\\cleaneddata\\orders.csv'\n",
    "  load_data_from_csv(csv_file_path)"
   ]
  },
  {
   "cell_type": "code",
   "execution_count": 136,
   "metadata": {},
   "outputs": [],
   "source": [
    "#importing csv file into posgres - shipping_address\n",
    "import csv\n",
    "def load_data_from_csv(csv_path):\n",
    "  conn=get_db_connection()\n",
    "  cursor = conn.cursor()\n",
    "  with open(csv_path, 'r') as file:\n",
    "    reader = csv.reader(file)\n",
    "    next(reader)\n",
    "    for row in reader:\n",
    "      cursor.execute('''\n",
    "                      INSERT INTO yanki.shipping(ShippingID, Customer_ID, Shipping_Address, City,State,Country,)\n",
    "                      VALUE (%s, %s, %s, %s, %s, %s, %s);''',\n",
    "                      row\n",
    "                    )\n",
    "  conn.commit()\n",
    "  \n",
    "  cursor.close()\n",
    "  conn.close()\n",
    "\n",
    "  csv_file_path = r'dataset\\cleaneddata\\shipping.csv'\n",
    "  load_data_from_csv(csv_file_path)"
   ]
  },
  {
   "cell_type": "code",
   "execution_count": 137,
   "metadata": {},
   "outputs": [],
   "source": [
    "#importing csv file into posgres - payment_method\n",
    "import csv\n",
    "def load_data_from_csv(csv_path):\n",
    "  conn=get_db_connection()\n",
    "  cursor = conn.cursor()\n",
    "  with open(csv_path, 'r') as file:\n",
    "    reader = csv.reader(file)\n",
    "    next(reader)\n",
    "    for row in reader:\n",
    "      cursor.execute('''\n",
    "                      INSERT INTO yanki.payment_method(Order_ID, Payment_Method, Transaction_Status)\n",
    "                      VALUE (%s, %s, %s);''',\n",
    "                      row\n",
    "                    )\n",
    "  conn.commit()\n",
    "  \n",
    "  cursor.close()\n",
    "  conn.close()\n",
    "\n",
    "  csv_file_path = r'dataset\\cleaneddata\\payment_method.csv'\n",
    "  load_data_from_csv(csv_file_path)"
   ]
  },
  {
   "cell_type": "code",
   "execution_count": 138,
   "metadata": {},
   "outputs": [
    {
     "name": "stdout",
     "output_type": "stream",
     "text": [
      "<class 'pandas.core.frame.DataFrame'>\n",
      "RangeIndex: 990 entries, 0 to 989\n",
      "Data columns (total 3 columns):\n",
      " #   Column              Non-Null Count  Dtype \n",
      "---  ------              --------------  ----- \n",
      " 0   Order_ID            990 non-null    object\n",
      " 1   Payment_Method      990 non-null    object\n",
      " 2   Transaction_Status  990 non-null    object\n",
      "dtypes: object(3)\n",
      "memory usage: 23.3+ KB\n"
     ]
    },
    {
     "data": {
      "text/plain": [
       "None"
      ]
     },
     "metadata": {},
     "output_type": "display_data"
    }
   ],
   "source": [
    "display(payment_method_df.info())"
   ]
  },
  {
   "cell_type": "code",
   "execution_count": null,
   "metadata": {},
   "outputs": [],
   "source": []
  }
 ],
 "metadata": {
  "kernelspec": {
   "display_name": "base",
   "language": "python",
   "name": "python3"
  },
  "language_info": {
   "codemirror_mode": {
    "name": "ipython",
    "version": 3
   },
   "file_extension": ".py",
   "mimetype": "text/x-python",
   "name": "python",
   "nbconvert_exporter": "python",
   "pygments_lexer": "ipython3",
   "version": "3.12.4"
  }
 },
 "nbformat": 4,
 "nbformat_minor": 2
}
